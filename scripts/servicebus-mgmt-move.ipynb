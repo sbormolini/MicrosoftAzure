{
 "cells": [
  {
   "cell_type": "code",
   "execution_count": 1,
   "metadata": {},
   "outputs": [],
   "source": [
    "import os\n",
    "from azure.servicebus import ServiceBusClient, ServiceBusMessage"
   ]
  },
  {
   "cell_type": "code",
   "execution_count": null,
   "metadata": {},
   "outputs": [],
   "source": [
    "CONNECTION_STR = os.environ['SERVICE_BUS_CONNECTION_STR']\n",
    "TOPIC_NAME = os.environ['SERVICE_BUS_TOPIC_NAME']\n",
    "SUBSCRIPTION_NAME = os.environ['SERVICE_BUS_SUBSCRIPTION_NAME']\n",
    "FORWARD_TO = os.environ['FORWARD_TO']"
   ]
  },
  {
   "cell_type": "code",
   "execution_count": null,
   "metadata": {},
   "outputs": [],
   "source": [
    "print(\"Trying to peek message from subscription: \" + SUBSCRIPTION_NAME)\n",
    "servicebus_client = ServiceBusClient.from_connection_string(conn_str=CONNECTION_STR)\n",
    "\n",
    "with servicebus_client:\n",
    "    receiver = servicebus_client.get_subscription_receiver(topic_name=TOPIC_NAME, subscription_name=SUBSCRIPTION_NAME)\n",
    "    sender = servicebus_client.get_topic_sender(topic_name=FORWARD_TO)\n",
    "    with receiver, sender:\n",
    "        received_msgs = receiver.peek_messages(max_message_count=500)\n",
    "        for msg in received_msgs:\n",
    "            print(f\"Pushing message to backup topic: {str(msg)}\")\n",
    "            #print(msg.message.__str__())\n",
    "            #sender.send_messages(ServiceBusMessage(body=msg.body, application_properties=msg.application_properties))\n",
    "            sender.send_messages(ServiceBusMessage(body=msg.message.__str__(), application_properties=msg.application_properties))\n",
    "\n",
    "print(\"Backup is done.\")"
   ]
  }
 ],
 "metadata": {
  "interpreter": {
   "hash": "bf1c0a11d69423f68cf5365dff1583cdfe3399f26f4533cda5d60e69425a79d9"
  },
  "kernelspec": {
   "display_name": "Python 3.9.10 64-bit",
   "language": "python",
   "name": "python3"
  },
  "language_info": {
   "codemirror_mode": {
    "name": "ipython",
    "version": 3
   },
   "file_extension": ".py",
   "mimetype": "text/x-python",
   "name": "python",
   "nbconvert_exporter": "python",
   "pygments_lexer": "ipython3",
   "version": "3.9.10"
  },
  "orig_nbformat": 4
 },
 "nbformat": 4,
 "nbformat_minor": 2
}

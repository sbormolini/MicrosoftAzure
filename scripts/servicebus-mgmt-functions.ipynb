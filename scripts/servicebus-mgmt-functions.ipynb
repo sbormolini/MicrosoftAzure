{
 "cells": [
  {
   "cell_type": "markdown",
   "metadata": {},
   "source": [
    "https://docs.microsoft.com/en-us/python/api/azure-servicebus/azure.servicebus.management?view=azure-python"
   ]
  },
  {
   "cell_type": "code",
   "execution_count": null,
   "metadata": {},
   "outputs": [],
   "source": [
    "pip install azure-servicebus"
   ]
  },
  {
   "cell_type": "code",
   "execution_count": null,
   "metadata": {},
   "outputs": [],
   "source": [
    "import os\n",
    "import uuid\n",
    "from azure.servicebus.management import ServiceBusAdministrationClient"
   ]
  },
  {
   "cell_type": "code",
   "execution_count": null,
   "metadata": {},
   "outputs": [],
   "source": [
    "CONNECTION_STR = 'Endpoint=sb://xxxxxx.servicebus.windows.net/;SharedAccessKeyName=xxxxx;SharedAccessKey=xxxxxxxx'\n",
    "TOPIC_NAME = 'test-topic'"
   ]
  },
  {
   "cell_type": "code",
   "execution_count": null,
   "metadata": {},
   "outputs": [],
   "source": [
    "def list_subscriptions(servicebus_mgmt_client, topic_name):\n",
    "    print(\"-- List Subscriptions\")\n",
    "    for subscription_properties in servicebus_mgmt_client.list_subscriptions(topic_name):\n",
    "        print(\"Subscription Name:\", subscription_properties.name)\n",
    "    print(\"\")"
   ]
  },
  {
   "cell_type": "code",
   "execution_count": null,
   "metadata": {},
   "outputs": [],
   "source": [
    "def create_subscription(servicebus_mgmt_client, topic_name, subscription_name):\n",
    "    print(\"-- Create Subscription\")\n",
    "    servicebus_mgmt_client.create_subscription(topic_name, subscription_name)\n",
    "    print(\"Subscription {} is created.\".format(subscription_name))\n",
    "    print(\"\")"
   ]
  },
  {
   "cell_type": "code",
   "execution_count": null,
   "metadata": {},
   "outputs": [],
   "source": [
    "def get_and_update_subscription(servicebus_mgmt_client):\n",
    "    print(\"-- Get and Update Subscription\")\n",
    "    subscription_properties = servicebus_mgmt_client.get_subscription(TOPIC_NAME, SUBSCRIPTION_NAME)\n",
    "    print(\"Subscription Name:\", subscription_properties.name)\n",
    "    print(\"Please refer to SubscriptionDescription for complete available settings.\")\n",
    "    print(\"\")\n",
    "    # update by updating the properties in the model\n",
    "    subscription_properties.max_delivery_count = 5\n",
    "    servicebus_mgmt_client.update_subscription(TOPIC_NAME, subscription_properties)\n",
    "\n",
    "    # update by passing keyword arguments\n",
    "    subscription_properties = servicebus_mgmt_client.get_subscription(TOPIC_NAME, SUBSCRIPTION_NAME)\n",
    "    servicebus_mgmt_client.update_subscription(TOPIC_NAME, subscription_properties, max_delivery_count=3)"
   ]
  },
  {
   "cell_type": "code",
   "execution_count": null,
   "metadata": {},
   "outputs": [],
   "source": [
    "def set_autoforward_on_subscription(servicebus_mgmt_client, topic_name_source, topic_name_target, subscription_name):\n",
    "    print(f\"-- Get and set forward to for subscription {subscription_name}\")\n",
    "    subscription_properties = servicebus_mgmt_client.get_subscription(topic_name_source, subscription_name)\n",
    "    # update by updating the properties in the model\n",
    "    subscription_properties.forward_to = topic_name_target\n",
    "    servicebus_mgmt_client.update_subscription(topic_name_source, subscription_properties)"
   ]
  },
  {
   "cell_type": "code",
   "execution_count": null,
   "metadata": {},
   "outputs": [],
   "source": [
    "servicebus_mgmt_client = ServiceBusAdministrationClient.from_connection_string(CONNECTION_STR)"
   ]
  },
  {
   "cell_type": "code",
   "execution_count": null,
   "metadata": {},
   "outputs": [],
   "source": [
    "create_subscription(servicebus_mgmt_client, 'test-topic', 'test-subscription')"
   ]
  },
  {
   "cell_type": "code",
   "execution_count": null,
   "metadata": {},
   "outputs": [],
   "source": [
    "set_autoforward_on_subscription(servicebus_mgmt_client, 'test-topic', 'test-topic-temp', 'test-subscription')"
   ]
  }
 ],
 "metadata": {
  "interpreter": {
   "hash": "bf1c0a11d69423f68cf5365dff1583cdfe3399f26f4533cda5d60e69425a79d9"
  },
  "kernelspec": {
   "display_name": "Python 3.9.10 64-bit",
   "language": "python",
   "name": "python3"
  },
  "language_info": {
   "codemirror_mode": {
    "name": "ipython",
    "version": 3
   },
   "file_extension": ".py",
   "mimetype": "text/x-python",
   "name": "python",
   "nbconvert_exporter": "python",
   "pygments_lexer": "ipython3",
   "version": "3.9.10"
  },
  "orig_nbformat": 4
 },
 "nbformat": 4,
 "nbformat_minor": 2
}
